{
 "cells": [
  {
   "cell_type": "markdown",
   "id": "c5f31360",
   "metadata": {
    "slideshow": {
     "slide_type": "slide"
    }
   },
   "source": [
    "# Physical Considerations for the Freefall in Freediving\n",
    "\n",
    "Author: Marc Pfander  \n",
    "Date: 17.02.2022"
   ]
  },
  {
   "cell_type": "markdown",
   "id": "e8ba1c5b-6404-4a6a-a303-2a0a041a01bc",
   "metadata": {
    "slideshow": {
     "slide_type": "skip"
    },
    "tags": []
   },
   "source": [
    "For the understanding of this paper, it is assumed that the reader is familiar with freediving theory as it is described in freediving manuals such as [[0]](#0), [[1]](#1) and [[2]](#2). Also, an understanding of basic physics and mathematics is needed. To fully understand how some of the solutions are derived, knowledge about ordinary differential equations and how to find numerical solutions thereof is required as well. \n",
    "\n",
    "The calculations are made in python [[7]](#) with the use of the scientific computation library SciPy [[8]](#8). \n",
    "\n",
    "The source code for this document can be found here [[12]](#12)."
   ]
  },
  {
   "cell_type": "markdown",
   "id": "6cc708fb-ea09-4657-b9fb-47670c2454f4",
   "metadata": {
    "slideshow": {
     "slide_type": "skip"
    }
   },
   "source": [
    "## 1. Introduction\n",
    "\n",
    "Freefall is an important part of any deep dive and there seem to be diverging opinions and theories as to when and how the freefall should be initiated. In the manuals of AIDA it is written that \"... you need to find this depth on your own\" [[2]](#2), which is not very helpful for that purpose. This paper tries to give a physics perspective on that topic considering the different forces that affect the diver during freefall. \n",
    "\n",
    "We will look at a diver moving during freefall and investigate how he is affected by different physical effects such as buoyancy, gravitation and hydrodynamic drag. The latter is a complex phenomenon and therefore we will only use an approximation of that effect. Other than that we will also make a number of assumptions and simplifications to reduce the problem at hand to something manageable in the scope of this paper. We will only look at the freefall itself and make a simple assumption on how the diver gets to the freefall starting point.\n",
    "\n",
    "In the second chapter we will derive the relevant physical formulas to describe the movement of the diver during freefall. This chapter can be skipped for mathematically and physicaly less inclinded readers. In the third chapter we will apply the derived calculations to a fictional example of an average diver to see how different starting depths and velocities will affect their freefall. We will also interpret the formulas and try to build an intuition for the forces at play."
   ]
  },
  {
   "cell_type": "markdown",
   "id": "42aec8ab-e4aa-4f17-892b-26715b1ab9bd",
   "metadata": {
    "slideshow": {
     "slide_type": "skip"
    },
    "tags": []
   },
   "source": [
    "## 2. Physical and mathematical derivations"
   ]
  },
  {
   "cell_type": "markdown",
   "id": "ce627772-08e0-48a2-94a2-b26f67caf063",
   "metadata": {
    "slideshow": {
     "slide_type": "skip"
    }
   },
   "source": [
    "### 2.1 Coordinate system\n",
    "\n",
    "We use a one-dimensional coordinate system where depth increases when we go down. Therefore we define the value of any force, velocity and acceleration vectors that point downwards as positive and vice versa for vectors pointing up."
   ]
  },
  {
   "cell_type": "markdown",
   "id": "5ff08f21-7044-4990-9cba-4ba2e85a2557",
   "metadata": {
    "slideshow": {
     "slide_type": "skip"
    }
   },
   "source": [
    "### 2.2 Gravitation\n",
    "\n",
    "At any given moment the diver experiences a gravitational force which is given by\n",
    "\n",
    "$ F_G = m g $\n",
    "\n",
    "where  \n",
    "* $g$ is the gravitational acceleration  \n",
    "* $m$ is the mass of the diver\n",
    "\n",
    "Possible variations in $g$ and $m$ are extremely small and their calculation far beyond the scope of this paper. We will therefore treat both as constant values."
   ]
  },
  {
   "cell_type": "markdown",
   "id": "7551cebd-1158-407b-9c98-c82c874ec773",
   "metadata": {
    "slideshow": {
     "slide_type": "skip"
    },
    "tags": []
   },
   "source": [
    "### 2.3 Buoyancy\n",
    "\n",
    "#### Archimedes' principle\n",
    "According to Archimedes principle the buoyant force of an object submerged in a fluid is equal to the gravitational force of the displaced water [[9]](#). This can be expressed as\n",
    "\n",
    "$  F_B = - \\rho g V $\n",
    "\n",
    "where  \n",
    "* $\\rho$ is the density of the fluid  \n",
    "* $V$ is the volume of the object\n",
    "\n",
    "Buoyancy is pulling the diver towards the surface and this gives the buoyant force a negative value as mentioned above.\n",
    "\n",
    "In our case the fluid is saline water. The change in its density from the surface to a diveable depth is around $\\frac{1}{1000}$ of its value [[3]](#3). This will not have a significant effect on our calculations and therefore we will treat it as a constant."
   ]
  },
  {
   "cell_type": "markdown",
   "id": "87cab68b-3fff-4912-bbde-23fc9cbae04e",
   "metadata": {
    "slideshow": {
     "slide_type": "skip"
    },
    "tags": []
   },
   "source": [
    "#### Buoyancy with variable pressure\n",
    "\n",
    "The total volume of the diver is subject to change due to the compression of air contained in the lungs and other spaces under pressure. Boyle's law states that the volume of a gas is proportional to the inverse of the surrounding pressure [[10]](#10). \n",
    "\n",
    "$ V \\propto \\frac{1}{P} $\n",
    "\n",
    "For the air-filled spaces of a diver at a specific depth this can also be written as\n",
    "\n",
    "$ \\frac{V}{V_{surface}} = \\frac{P_{surface}}{P} $\n",
    "\n",
    "Due to the relationship between pressure and depth [[0]](#0)\n",
    "\n",
    "$ P_{atm} = \\frac{d}{10\\frac{[m]}{[atm]}} + 1 [atm] $\n",
    "\n",
    "where  \n",
    "$P_{atm}$ is the pressure at a specific depth in [atm]  \n",
    "$d$ is the depth in [m]\n",
    "\n",
    "the pressure ratio can also be expressed as\n",
    "\n",
    "$ \\frac{P_{surface}}{P} =   \\frac{ 1  }{  \\frac{d}{10[m]} + 1 }   = \\frac{10 [m]}{d + 10[m]}$ \n",
    "\n",
    "\n",
    "With this we can then express the volume at depth as a function of that depth as\n",
    " \n",
    "\n",
    "$ V = V_{surface} \\frac{10 [m]}{d + 10[m]}  $"
   ]
  },
  {
   "cell_type": "markdown",
   "id": "8b3ec166-da8a-4180-b1e2-8707a55c0d50",
   "metadata": {
    "slideshow": {
     "slide_type": "skip"
    }
   },
   "source": [
    "#### Constant and variable buoyancy\n",
    "\n",
    "A diver is made of compressable and non-compressable parts and therefore there is a variable and a constant component in their buoyancy. Assuming that the diver starts a dive at the surface after a full inhale, the Volume at a specific depth is given by\n",
    "\n",
    "$ V = V_{diver} + V_{tlc} \\frac{10 [m]}{d + 10[m]} $\n",
    "\n",
    "where  \n",
    "* $V_{diver}$ is the volume of the diver without any gas-filled spaces  \n",
    "* $V_{tlc}$ is the total lung capacity ($V_{surface}$) \n",
    "\n",
    "Note that other volumes of air are small compared to the total lung capacity and are therefore neglected.\n",
    "\n",
    "Using this we can express the total buoyant force of the diver as\n",
    "\n",
    "$ F_B = - C_B \\left( V_{diver} + V_{tlc} \\frac{10 [m]}{d + 10[m]} \\right)$\n",
    "\n",
    "with $C_B = \\rho g$ being the constant buoyancy coefficient\n",
    "\n",
    "The negative sign comes again from the use of the inverted coordinate system."
   ]
  },
  {
   "cell_type": "markdown",
   "id": "c538a4ab-8ebd-4092-84b4-526b1e469a40",
   "metadata": {
    "slideshow": {
     "slide_type": "skip"
    },
    "tags": []
   },
   "source": [
    "### 2.4 Hydrodynamic drag\n",
    "\n",
    "Hydrodynamic drag is the resistive force that an object experiences when moving in a fluid. It can be approximated with the following formula which integrates different contributions such as turbulent and laminar drag [[4]](#4).\n",
    "\n",
    "$ F_D = - \\frac{1}{2} \\rho v²C_D A $\n",
    "\n",
    "where  \n",
    "* $F_{D}$ is the drag force    \n",
    "* $v$ is the speed of the object relative to the fluid  \n",
    "* $A$ is the cross-sectional area  \n",
    "* $C_{D}$ is the drag coefficient – a dimensionless number \n",
    "\n",
    "As above the negative sign comes from the inverted coordinate system\n",
    "\n",
    "In our case the object is a diver during the descent on a deep dive. In reality changes in body position during freefall and the motion during swimming would affect the cross-sectional area and the drag coefficient of the diver [[2]](#2). However, including these changes would make the model unnecesarily complicated and would presumably not contribute to the general understanding of the problem at hand. Therefore these two factors are assumed to remain constant. \n",
    "\n",
    "Since the diver can theoretically move up and down, we have to express the square of the velocity as $v|v|$ so that its sign is retained. \n",
    "\n",
    "With these assumptions, modifications, and the constant density of water it is possible to simplify the above formula to\n",
    "\n",
    "$ F_D = - C_R v |v| $\n",
    "\n",
    "with $ C_R = \\frac{1}{2} \\rho C_D A$ being the constant resistive coefficient. \n"
   ]
  },
  {
   "cell_type": "markdown",
   "id": "a83cb94f-1105-4363-b005-c22275579edd",
   "metadata": {
    "slideshow": {
     "slide_type": "skip"
    }
   },
   "source": [
    "### 2.5 Terminal velocity\n",
    "\n",
    "A static object falling in a fluid will accelerate or decelerate until the gravitational and hydrodynamic forces cancel each other out. The velocity at that point is called terminal velocity [[6]](#6). If the object falls initially faster, the drag component will be larger than the gravitational force and therefore the object will slow down. If the object is initially slower, the gravitational force is greater and it will accelerate.\n",
    "\n",
    "In our case the terminal velocity for the diver can be derived from the force equation\n",
    "\n",
    "$  F_G = F_B + F_D  $\n",
    "\n",
    "and thus\n",
    "\n",
    "$ m g = - C_B \\left( V_{diver} + V_{tlc} \\frac{10 [m]}{d + 10[m]} \\right) - C_R v |v| $\n",
    "\n",
    "\n",
    "Solving this for $v$ then results in the terminal velocity that a diver in freefall should converge to\n",
    "\n",
    "$  v_t =  \\sqrt{  \\frac{ \\left| m g  - C_B \\left( V_{diver} + V_{tlc} \\frac{10 [m]}{d + 10[m]} \\right) \\right|}{C_R}  }   $\n",
    "\n",
    "Due to the variable lung volume, the terminal velocity is actually dependent on depth and thus not constant. However, as a first approximation we can assume that the lung volume converges towards 0m² at greater depth and therefore becomes neglibile. For that case we can ignore the term $ V_{tlc} \\frac{10 [m]}{d + 10[m]} $ and write the equation as\n",
    "\n",
    "$  v_T =  \\sqrt{ \\frac{ \\left|- C_B V_{diver} - m g \\right|}{C_R}}   $"
   ]
  },
  {
   "cell_type": "markdown",
   "id": "395caeec-7df7-493b-a894-b8ba7eee9e3b",
   "metadata": {
    "slideshow": {
     "slide_type": "skip"
    }
   },
   "source": [
    "### 2.5 Freefall equation"
   ]
  },
  {
   "cell_type": "markdown",
   "id": "6f24baac-1bfe-4dc8-945a-2631f3e2d50a",
   "metadata": {
    "slideshow": {
     "slide_type": "skip"
    }
   },
   "source": [
    "With the derivations from the previous sections we can now express the force that a diver during freefall experiences as the sum of the hydrodynamic drag, the buoyant force and the gravitational force."
   ]
  },
  {
   "cell_type": "markdown",
   "id": "cef7ec55",
   "metadata": {
    "slideshow": {
     "slide_type": "slide"
    }
   },
   "source": [
    "$ F_{total} = F_B + F_G + F_D = m g - C_B \\left( V_{diver} + V_{tlc} \\frac{10 [m]}{d + 10[m]} \\right) - C_R v |v|$"
   ]
  },
  {
   "cell_type": "markdown",
   "id": "0e56c7df-9527-481f-aa9f-18de50b1b5d8",
   "metadata": {
    "slideshow": {
     "slide_type": "skip"
    }
   },
   "source": [
    "Expressing the total force as the product of mass and total acceleration gives \n",
    "\n",
    "$ m a = m g - C_B \\left( V_{diver} + V_{tlc} \\frac{10 [m]}{d + 10[m]} \\right)  - C_R v |v|$"
   ]
  },
  {
   "cell_type": "markdown",
   "id": "28cc3190-0d61-4a00-9b62-4301998691e0",
   "metadata": {
    "slideshow": {
     "slide_type": "skip"
    }
   },
   "source": [
    "Since acceleration and velocity are derivatives with respect to time ( $v(t)=\\frac{d d}{d t} = d'$,  $a(t)=\\frac{d² d}{d t²} = d''$ ),  we can rewrite this as a differential equation.\n",
    "\n",
    "$ m d'' = - C_R (d')² - C_B V_{tlc} \\frac{10 [m]}{d + 10[m]} - C_B V_{diver} + mg $\n"
   ]
  },
  {
   "cell_type": "markdown",
   "id": "bee85b0f-1e4e-474c-9692-3e01bf454475",
   "metadata": {
    "slideshow": {
     "slide_type": "skip"
    },
    "tags": []
   },
   "source": [
    "The solution to this differential equation is not trivial and therefore a numerical solver will be used. For this we need to transform the second order differential equation into a system of two first order ones. We define \n",
    "\n",
    "$ d' = v $  \n",
    "$ v' = d'' = \\frac{ - C_R v |v| -  C_B V_{tlc} \\frac{10 [m]}{d + 10[m]} - C_B V_{diver} + m g }{m}$\n",
    "\n",
    "These are two coupled first order differential equations which require inittial conditions ($d_0$ and $v_0$).\n"
   ]
  },
  {
   "cell_type": "markdown",
   "id": "38042e27-3161-4f94-b527-366a67a6bfc0",
   "metadata": {
    "slideshow": {
     "slide_type": "skip"
    }
   },
   "source": [
    "## 3 Example and interpretation"
   ]
  },
  {
   "cell_type": "markdown",
   "id": "a1a91e4e-7df3-48ac-bb07-4a75cba8a236",
   "metadata": {
    "slideshow": {
     "slide_type": "skip"
    }
   },
   "source": [
    "In the previous chapter we concluded that the forces during freefall can be described as the sum of the buoyant force, gravitational force and hydrodynamic drag. We will now look at the individual components and visualize them with the help of an example to create an intuition of how they work."
   ]
  },
  {
   "cell_type": "code",
   "execution_count": 1,
   "id": "d4f93be1-1d52-4d05-9930-e26f39675885",
   "metadata": {
    "slideshow": {
     "slide_type": "skip"
    }
   },
   "outputs": [],
   "source": [
    "# Imports and setup\n",
    "from enum import Enum\n",
    "import matplotlib.pyplot as plt\n",
    "import seaborn as sns\n",
    "import numpy as np\n",
    "import math\n",
    "import scipy as sp\n",
    "from scipy.integrate import odeint\n",
    "from scipy.integrate import solve_ivp\n",
    "import pandas as pd"
   ]
  },
  {
   "cell_type": "markdown",
   "id": "2d4938c3-1ee4-4afe-b4d8-f6243e3ff879",
   "metadata": {
    "slideshow": {
     "slide_type": "slide"
    },
    "tags": []
   },
   "source": [
    "### 3.1 Model diver and physical constants\n",
    "\n",
    "Our model diver is assumed to have more or less average physical properties [[2]](#2)[[4]](#4)[[5]](#5)[[11]](#11)."
   ]
  },
  {
   "cell_type": "code",
   "execution_count": 2,
   "id": "39027e48-4721-44f9-a6a7-361edaea342c",
   "metadata": {
    "slideshow": {
     "slide_type": "slide"
    },
    "tags": []
   },
   "outputs": [],
   "source": [
    "# Physical constants\n",
    "rho = 1023.6               # kg/m³ density of saline water\n",
    "g = 9.807                  # m/s²  gravitational acceleration on earth\n",
    "\n",
    "# Assumptions about diver\n",
    "V_diver = 0.062            # m³    volume of diver   source [11]\n",
    "V_tlc = 0.006              # m³    total lung capacity  source [2]\n",
    "m_diver = 63               # Kg    weight of diver\n",
    "m_weight = 3               # Kg    Extra weight for buoyancy control\n",
    "A = 0.07                   # m²    crossectional area of diver in diving direction   source: [5]\n",
    "C_D = 0.3                  # -     Drag coefficient   source: [4]\n",
    "\n",
    "# Derived\n",
    "m = m_diver + m_weight     # total diver mass\n",
    "C_B = rho * g              # Buoyency coefficient\n",
    "C_R = 0.5 * rho * C_D * A  # Resistive coefficient"
   ]
  },
  {
   "cell_type": "markdown",
   "id": "7ed14e85-63b4-4b7b-b7ae-68a2df1ec0f1",
   "metadata": {
    "slideshow": {
     "slide_type": "slide"
    },
    "tags": []
   },
   "source": [
    "### 3.2 Gravitation\n",
    "\n",
    "The gravitational force is defined as\n",
    "\n",
    "$ F_G = m g  $\n",
    "\n",
    "There is no dependency on a variable component and therefore we expect this force to be constant at all times."
   ]
  },
  {
   "cell_type": "code",
   "execution_count": 3,
   "id": "8aecae09-3fbe-4ccf-aac1-f15665a9d32f",
   "metadata": {
    "slideshow": {
     "slide_type": "skip"
    },
    "tags": []
   },
   "outputs": [],
   "source": [
    "# functions\n",
    "def gravitational_force(d):\n",
    "    return m*g\n",
    "\n",
    "# plot values\n",
    "def plot_gravitation():\n",
    "    depth = np.linspace(0, 100, 100)\n",
    "    f_gravitation = [gravitational_force(d) for d in depth]\n",
    "\n",
    "    # Plot\n",
    "    plt_gravitational = sns.lineplot(x = depth, y = f_gravitation, label='gravitation', color='purple')\n",
    "    plt_gravitational.axhline(0, ls='--', color='gray');\n",
    "    plt_gravitational.set(xlabel='depth [m]', ylabel='Force [Kg m/s²]', title='gravitational force on diver');"
   ]
  },
  {
   "cell_type": "code",
   "execution_count": 4,
   "id": "ce9ed522",
   "metadata": {
    "slideshow": {
     "slide_type": "slide"
    }
   },
   "outputs": [
    {
     "data": {
      "image/png": "[encoded data removed]",
      "text/plain": [
       "<Figure size 432x288 with 1 Axes>"
      ]
     },
     "metadata": {
      "needs_background": "light"
     },
     "output_type": "display_data"
    }
   ],
   "source": [
    "plot_gravitation()"
   ]
  },
  {
   "cell_type": "markdown",
   "id": "67950ec7-4fa5-46cc-bed8-fe35f204b256",
   "metadata": {
    "slideshow": {
     "slide_type": "slide"
    }
   },
   "source": [
    "### 3.3 Buoyant force\n",
    "\n",
    "The buoyant force is defined as\n",
    "\n",
    "$ F_B = - C_B \\left( V_{diver} + V_{tlc} \\frac{10 [m]}{d + 10[m]} \\right)$\n",
    "\n",
    "This can also be split up into the sum of a constant component for the non-compressible parts of the diver and a variable component for the airfilled spaces.\n",
    "\n",
    "$ F_B = \\underbrace{- C_B V_{diver}}_{constant} - \\underbrace{C_B V_{tlc} \\frac{10 [m]}{d + 10[m]}}_{variable} )$"
   ]
  },
  {
   "cell_type": "markdown",
   "id": "64219890",
   "metadata": {
    "slideshow": {
     "slide_type": "skip"
    }
   },
   "source": [
    "With increasing depth the contribution of the variable part will decrease since the lung volume is shrinking. We can therefore expect for the total buoyant force to converge slowly towards the constant component."
   ]
  },
  {
   "cell_type": "code",
   "execution_count": 5,
   "id": "de0a9aed-284e-4ace-bfce-7eed65c5fd56",
   "metadata": {
    "slideshow": {
     "slide_type": "skip"
    }
   },
   "outputs": [],
   "source": [
    "# functions\n",
    "def buoyant_force_constant(d):\n",
    "    return - C_B * V_diver\n",
    "\n",
    "def buoyant_force_variable(d):\n",
    "    return - C_B * (V_tlc * 10 / ( d + 10))\n",
    "\n",
    "def buoyant_force_total(d):    \n",
    "    return buoyant_force_constant(d) + buoyant_force_variable(d)\n",
    "\n",
    "def plot_buoyant_force():\n",
    "    # plot values\n",
    "    depth = np.linspace(0, 100, 100)\n",
    "    f_buoyant_constant = [buoyant_force_constant(d) for d in depth]\n",
    "    f_buoyant_variable = [buoyant_force_variable(d) for d in depth]\n",
    "    f_buoyant_total = [buoyant_force_total(d) for d in depth]\n",
    "\n",
    "    # Plot\n",
    "    plt_buoyant = sns.lineplot(x = depth, y = f_buoyant_constant, label='buoyant constant', color='lightblue')\n",
    "    plt_buoyant = sns.lineplot(x = depth, y = f_buoyant_variable, label='buoyant variable', color='turquoise')\n",
    "    plt_buoyant = sns.lineplot(x = depth, y = f_buoyant_total, label='buoyant total', color='blue')\n",
    "    plt_buoyant.axhline(0, ls='--', color='grey');\n",
    "    plt_buoyant.set(xlabel='depth [m]', ylabel='Force [Kg m/s²]', title='buoyant forces on diver');"
   ]
  },
  {
   "cell_type": "code",
   "execution_count": 6,
   "id": "054141cf",
   "metadata": {
    "slideshow": {
     "slide_type": "slide"
    }
   },
   "outputs": [
    {
     "data": {
      "image/png": "[encoded data removed]",
      "text/plain": [
       "<Figure size 432x288 with 1 Axes>"
      ]
     },
     "metadata": {
      "needs_background": "light"
     },
     "output_type": "display_data"
    }
   ],
   "source": [
    "plot_buoyant_force()"
   ]
  },
  {
   "cell_type": "markdown",
   "id": "6d170d43-72cc-4733-a47a-bf2fb39423ed",
   "metadata": {
    "slideshow": {
     "slide_type": "slide"
    }
   },
   "source": [
    "### 3.4 Static forces (buoyancy and gravitation)\n",
    "\n",
    "The total of forces that don't depend on the movement of the diver are the sum of the gravitational and buoyant forces.\n",
    "\n",
    "$ F_{static} = F_B + F_G = \\underbrace{ - C_B \\left( V_{diver} + V_{tlc} \\frac{d + 10[m]}{10 [m]} \\right)}_\\text{buoyant}  + \\underbrace{mg}_\\text{gravitation} $"
   ]
  },
  {
   "cell_type": "markdown",
   "id": "fc5e0f11",
   "metadata": {
    "slideshow": {
     "slide_type": "skip"
    }
   },
   "source": [
    "The only variable part is the contribution of the variable buoyant force. We can therefore expect the same curve as for the buoyant force just with the gravitational force added. The point where the total static force reaches zero is the divers neutral depth."
   ]
  },
  {
   "cell_type": "code",
   "execution_count": 7,
   "id": "ef751eb5-27be-4ded-9a91-3d5d4690658c",
   "metadata": {
    "slideshow": {
     "slide_type": "skip"
    }
   },
   "outputs": [],
   "source": [
    "# functions\n",
    "def static_forces_total(d):\n",
    "    return gravitational_force(d) + buoyant_force_total(d)\n",
    "\n",
    "def plot_static_forces():\n",
    "    # plot values\n",
    "    depth = np.linspace(0, 100, 100)\n",
    "    f_gravitation = [gravitational_force(d) for d in depth]\n",
    "    f_static_total = [static_forces_total(d) for d in depth]\n",
    "    f_buoyant_total = [buoyant_force_total(d) for d in depth]\n",
    "\n",
    "    # neutral depth\n",
    "    min_positive_buoyancy = min([f for f in f_static_total if f > 0])\n",
    "    neutral_depth = depth[f_static_total.index(min_positive_buoyancy)]\n",
    "    neutral_depth_text = f'neutral depth: {round(neutral_depth, 2)} [m]'\n",
    "\n",
    "    # Plot\n",
    "    fig, (ax1, ax2) = plt.subplots(1, 2, figsize=(15, 5))\n",
    "\n",
    "    sns.lineplot(ax= ax1, x = depth, y = f_gravitation, label='gravitation', color='purple')\n",
    "    sns.lineplot(ax= ax1, x = depth, y = f_buoyant_total, label='buoyant total', color='blue')\n",
    "    sns.lineplot(ax= ax1, x = depth, y = f_static_total, label='static total', color='green')\n",
    "    ax1.axhline(0, ls='--', color='grey');\n",
    "    ax1.set(xlabel='depth [m]', ylabel='Force [Kg m/s²]', title='static forces on diver');\n",
    "\n",
    "    sns.lineplot(ax= ax2, x = depth, y = f_static_total, label='static total', color='green')\n",
    "    ax2.axhline(0, ls='--', color='grey');\n",
    "    ax2.set(xlabel='depth [m]', ylabel='Force [Kg m/s²]', title='total static force on diver adn neutral depth');\n",
    "    ax2.axvline(neutral_depth, ls='--', color='orange');\n",
    "    ax2.text(neutral_depth + 2, - 4, neutral_depth_text, ha='left', va='bottom');"
   ]
  },
  {
   "cell_type": "code",
   "execution_count": 8,
   "id": "be641b6f",
   "metadata": {
    "slideshow": {
     "slide_type": "slide"
    }
   },
   "outputs": [
    {
     "data": {
      "image/png": "[encoded data removed]",
      "text/plain": [
       "<Figure size 1080x360 with 2 Axes>"
      ]
     },
     "metadata": {
      "needs_background": "light"
     },
     "output_type": "display_data"
    }
   ],
   "source": [
    "plot_static_forces()"
   ]
  },
  {
   "cell_type": "markdown",
   "id": "95c7d18a-da5f-49e6-9f8d-6099d088f5ee",
   "metadata": {
    "slideshow": {
     "slide_type": "slide"
    }
   },
   "source": [
    "### 3.5 Hydrodynamic drag\n",
    "\n",
    "The hydrodynamic drag force is described by\n",
    "\n",
    "$ F_D = - C_R v |v| $\n",
    "\n",
    "with $ C_R = \\frac{1}{2} \\rho C_D A$ being the constant resistive coefficient."
   ]
  },
  {
   "cell_type": "markdown",
   "id": "d1bdd069",
   "metadata": {
    "slideshow": {
     "slide_type": "skip"
    }
   },
   "source": [
    "On first sight, the hydrodynamic drag is solely dependent on the velocity of the diver during freefall. It increases quadraticaly with the velocity and thus doesn't play much of a role at slow velocities but becomes a major factor at higher ones. However the resistive coefficient $C_R$  can be influenced. The area $A$ is determined by body position and aligment during freefall and can therefore be optimized [[1]](#1). The drag coefficient $C_D$ depends on the overall shape of the diver and also on the smoothness of their wetsuit or skin [[0]](#0).\n",
    "\n",
    "In our example we will however assume that the diver maintains a constant body position and alignment and that they don't experiment with different wetsuits."
   ]
  },
  {
   "cell_type": "code",
   "execution_count": 9,
   "id": "78ca01bc-240e-4d16-abad-0f031ec7d2e4",
   "metadata": {
    "slideshow": {
     "slide_type": "skip"
    }
   },
   "outputs": [],
   "source": [
    "# function\n",
    "def drag_force(v):\n",
    "    return - C_R * v * abs(v)\n",
    "\n",
    "def plot_drag():\n",
    "    # values\n",
    "    velocity = np.linspace(0, 2, 100)\n",
    "    f_drag = [drag_force(v) for v in velocity]\n",
    "\n",
    "    # Plot\n",
    "    plt_drag = sns.lineplot(x = velocity, y = f_drag, label='hydrodynamic drag', color='red')\n",
    "    plt_drag.set(xlabel='velocity [m/s]', ylabel='Force [Kg m/s²]', title='hydrodynamic drag force on diver');"
   ]
  },
  {
   "cell_type": "code",
   "execution_count": 10,
   "id": "41928914",
   "metadata": {
    "slideshow": {
     "slide_type": "slide"
    }
   },
   "outputs": [
    {
     "data": {
      "image/png": "[encoded data removed]",
      "text/plain": [
       "<Figure size 432x288 with 1 Axes>"
      ]
     },
     "metadata": {
      "needs_background": "light"
     },
     "output_type": "display_data"
    }
   ],
   "source": [
    "plot_drag()"
   ]
  },
  {
   "cell_type": "markdown",
   "id": "d1ac1cf3-ddd2-490c-a8fd-8f541e4897a8",
   "metadata": {
    "slideshow": {
     "slide_type": "slide"
    }
   },
   "source": [
    "### 3.6 Terminal velocity\n",
    "\n",
    "The terminal velocity is given by\n",
    "\n",
    "$  v_t =  \\sqrt{ \\frac{ m g - C_B \\left( V_{diver} + V_{tlc} \\frac{10 [m]}{d + 10[m]} \\right) }{C_R} }   $\n",
    "\n",
    "and at greater depths, when the lung volume becomes very small, it converges towards\n",
    "\n",
    "$  v_T =  \\sqrt{ \\frac{m g - C_B V_{diver}}{C_R} }   $"
   ]
  },
  {
   "cell_type": "markdown",
   "id": "858cef53",
   "metadata": {
    "slideshow": {
     "slide_type": "skip"
    }
   },
   "source": [
    "The terminal velocity is the velocity a diver will approach during freefall without any active movement. If the diver is faster than the terminal velocity, they will slow down because the hydrodynamic drag is greater than the sum of gravitation and buoyancy. If they are slower however, they will speed up, because hydrodynamic drag is lower than the other forces.\n",
    "\n",
    "Once the diver has passed neutral depth, we can see that the terminal velocity starts at 0 and converges then to a final value with increasing depth. Above neutral depth, the terminal velocity is negative due to the increased buoyancy. This is not relevant for the freefall and we will not discuss it further here.\n",
    "\n",
    "This means for the diver, that they will have to actively swim down, as long as they want to move faster than the terminal velocity. As soon as they stop finning/swimming, their velocity will decrease quickly towards the terminal velocity at their current depth."
   ]
  },
  {
   "cell_type": "code",
   "execution_count": 11,
   "id": "f6dcddf1-23da-4970-941f-5ec11adf94f1",
   "metadata": {
    "slideshow": {
     "slide_type": "skip"
    }
   },
   "outputs": [],
   "source": [
    "# functions\n",
    "def terminal_velocity(d):\n",
    "    v_square = ( m * g - C_B * ( V_diver + V_tlc * 10 /  (d + 10) ) ) / C_R \n",
    "    \n",
    "    return v_square / abs(v_square) * abs(v_square) ** 0.5\n",
    "    \n",
    "terminal_velocity_final = math.sqrt( ( m * g - C_B * V_diver ) / (C_R) )\n",
    "\n",
    "def plot_terminal_velocity():\n",
    "    # specific terminal velocities\n",
    "\n",
    "    # plot values\n",
    "    depth = np.linspace(0, 100, 1000)\n",
    "    v_terminal_depth = [terminal_velocity(d) for d in depth]\n",
    "\n",
    "    # plot\n",
    "    ax1 = sns.lineplot(x=depth, y=v_terminal_depth, label='terminal velocity')\n",
    "    ax1.axhline(terminal_velocity_final, ls='--', color='orange');\n",
    "    ax1.text(20, terminal_velocity_final, f'final terminal velocity: {round(terminal_velocity_final, 2)} m/s', ha='left', va='top');\n",
    "    ax1.axhline(0, ls='--', color='grey');\n",
    "    ax1.set(xlabel='depth [m]', ylabel='velocity [m/s²]', title='terminal velocity');"
   ]
  },
  {
   "cell_type": "code",
   "execution_count": 12,
   "id": "74389f90",
   "metadata": {
    "slideshow": {
     "slide_type": "slide"
    }
   },
   "outputs": [
    {
     "data": {
      "image/png": "[encoded data removed]",
      "text/plain": [
       "<Figure size 432x288 with 1 Axes>"
      ]
     },
     "metadata": {
      "needs_background": "light"
     },
     "output_type": "display_data"
    }
   ],
   "source": [
    "plot_terminal_velocity()"
   ]
  },
  {
   "cell_type": "markdown",
   "id": "bcd0a1e7-3a86-40d3-99a7-e24f2b68a39e",
   "metadata": {
    "slideshow": {
     "slide_type": "slide"
    }
   },
   "source": [
    "### 3.7 Freefall equation\n",
    "\n",
    "The total sum of the static buoyant and gravitational forces and the hydrodynamic drag force is given by\n",
    "\n",
    "$ F_{total} = F_B + F_G + F_D = m g - C_B \\left( V_{diver} + V_{tlc} \\frac{10 [m]}{d + 10[m]} \\right) - C_R v |v|$"
   ]
  },
  {
   "cell_type": "markdown",
   "id": "0d96e8aa",
   "metadata": {
    "slideshow": {
     "slide_type": "skip"
    }
   },
   "source": [
    "If this total force is negative, the diver will slow down, if it is positive, the diver will accelerate their dive (remember that we defined that negative forces pull up, positive forces pull down). If the force is zero, the diver will maintain their velocity.\n",
    "\n",
    "Aside from adjusting their body position, alignment, and reducing friction, the diver has only two ways of influencing the freefall. One is the depth at which they stop finning/swimming and the other is the velocity with which they enter the freefall. This is described with\n",
    "\n",
    "$ d' = v $  \n",
    "$ v' = d'' = \\frac{ - C_R v |v| -  C_B V_{tlc} \\frac{10 [m]}{d + 10[m]} - C_B V_{diver} + m g }{m}$\n",
    "\n",
    "with  \n",
    "* $d_0 = \\text{start depth}$  \n",
    "* $v_0 = \\text{initial velocity}$\n",
    "\n",
    "\n",
    "Using this we will now simulate how different start depths and velocities will affect the descent of the diver. For simplicity we will assume that the diver finns/swims down to the freefall starting depth with constant velocity, which is also the velocity with which they will start the freefall."
   ]
  },
  {
   "cell_type": "code",
   "execution_count": 13,
   "id": "6927c284-adf4-446c-9e99-dbc3820e3aed",
   "metadata": {
    "slideshow": {
     "slide_type": "skip"
    }
   },
   "outputs": [],
   "source": [
    "# total force function\n",
    "def total_forces(d, v):\n",
    "    return - C_R * abs(v) * v  -  C_B * V_tlc * 10 / ( d + 10)  -  C_B * V_diver  +  m * g\n",
    "\n",
    "\n",
    "# equation system\n",
    "def dSdd(t, S):\n",
    "    d, v = S\n",
    "    return [\n",
    "        v,\n",
    "        total_forces(d, v) / m\n",
    "    ]\n",
    "\n",
    "# time\n",
    "t = np.linspace(0, 120, 1000)\n",
    "\n",
    "\n",
    "# initial conditions for different scenarios (d_0: depth, v_0: velocity)\n",
    "class Scenario:\n",
    "    \n",
    "    def __init__(self, name, start_depth, start_velocity):\n",
    "        self.name = name\n",
    "        self.start_depth = start_depth\n",
    "        self.start_velocity = start_velocity\n",
    "        \n",
    "    def get_time_to_start(self):\n",
    "        return self.start_depth / self.start_velocity\n",
    "        \n",
    "v_fast, v_slow = [1.4, 0.8]\n",
    "d_deep, d_shallow = [30, 20]\n",
    "\n",
    "scenarios = {\n",
    "    Scenario('shallow-fast', d_shallow, v_fast),\n",
    "    # Scenario('shallow-terminal', d_shallow, terminal_velocity(d_shallow)),\n",
    "    Scenario('shallow-slow', d_shallow, v_slow),    \n",
    "    Scenario('deep-fast', d_deep, v_fast),\n",
    "    # Scenario('deep-terminal', d_deep, terminal_velocity(d_deep)),\n",
    "    Scenario('deep-slow', d_deep, v_slow),   \n",
    "}\n",
    "\n",
    "sample_depths = [40, 80, 120]\n",
    "\n",
    "class Solution:    \n",
    "    def __init__(self, scenario, t, d, v):\n",
    "        self.scenario = scenario\n",
    "        self.t = t\n",
    "        self.d = d\n",
    "        self.v = v\n",
    "        \n",
    "    def get_time_to_bottom(self, bottom_depth):\n",
    "        i = np.where(self.d >= bottom_depth)[0][0]\n",
    "        return self.t[i]        \n",
    "        \n",
    "\n",
    "# solver functions\n",
    "def solve_scenario(equations, t, scenario):\n",
    "    init = [scenario.start_depth, scenario.start_velocity]\n",
    "    result = odeint(equations, y0 = init, t=t, tfirst=True)\n",
    "    d = result.T[0]\n",
    "    v = result.T[1]\n",
    "    return d, v     \n",
    "    \n",
    "def solve_scenarios(equations, t, scenarios):\n",
    "    solutions = []\n",
    "    for s in scenarios:\n",
    "        d, v = solve_scenario(equations, t, s)\n",
    "        solutions.append(Solution(s, t, d, v))                         \n",
    "    return solutions\n",
    "\n",
    "\n",
    "# Execute\n",
    "solutions = solve_scenarios(dSdd, t, scenarios);"
   ]
  },
  {
   "cell_type": "code",
   "execution_count": 14,
   "id": "67f0fb68-9f53-4957-930a-74b841e9ccd4",
   "metadata": {
    "slideshow": {
     "slide_type": "skip"
    }
   },
   "outputs": [],
   "source": [
    "# Plotting \n",
    "def get_line_stroke(scenario_name: str):\n",
    "    if 'fast' in scenario_name:\n",
    "        return '-'\n",
    "    if 'terminal' in scenario_name:\n",
    "        return '--'\n",
    "    if 'slow' in scenario_name:\n",
    "        return ':'\n",
    "    \n",
    "def get_line_color(scenario_name: str):\n",
    "    if 'shallow' in scenario_name:\n",
    "        return 'blue'\n",
    "    if 'deep' in scenario_name:\n",
    "        return 'red'\n",
    "\n",
    "\n",
    "def velocity_plot(ax, data: list[Solution]):\n",
    "    \n",
    "    ax.set_title('velocity vs time')\n",
    "    ax.set_xlabel('time [s]')\n",
    "    ax.set_ylabel('velocity [m/s]')\n",
    "    ax.set_xlim([0, 120])\n",
    "    ax.set_ylim([0, terminal_velocity_final * 1.1])\n",
    "    \n",
    "    for s in data:     \n",
    "        x = s.t + s.scenario.get_time_to_start()\n",
    "        x = np.insert(x, 0, 0)\n",
    "        y = s.v\n",
    "        y = np.insert(y, 0, y[0])\n",
    "        col = get_line_color(s.scenario.name)\n",
    "        ls = get_line_stroke(s.scenario.name)\n",
    "        sns.lineplot(ax = ax, x = x, y = y, label=s.scenario.name, ls=ls, color= col)\n",
    "    \n",
    "    ax.axhline(terminal_velocity_final, ls='-.', color='grey', linewidth=1);\n",
    "    ax.text(80, terminal_velocity_final, 'final terminal velocity', ha='left', va='bottom')\n",
    "        \n",
    "        \n",
    "def depth_plot(ax, data: list[Solution]):\n",
    "    \n",
    "    ax.set_title('depth vs time')\n",
    "    ax.set_xlabel('time [s]')\n",
    "    ax.set_ylabel('depth [m]')\n",
    "    ax.set_xlim([0, 120])\n",
    "    ax.set_ylim([0, 120])\n",
    "    \n",
    "    for d in sample_depths:\n",
    "        ax.axhline(d, ls='-.', color='grey', linewidth=1)\n",
    "    \n",
    "    for s in data:\n",
    "        x = s.t + s.scenario.get_time_to_start()\n",
    "        x = np.insert(x, 0, 0)\n",
    "        y = s.d\n",
    "        y = np.insert(y, 0, 0)\n",
    "        col = get_line_color(s.scenario.name)\n",
    "        ls = get_line_stroke(s.scenario.name)\n",
    "        sns.lineplot(ax = ax, x = x, y = y, label=s.scenario.name, ls=ls, color=col)\n",
    "        \n",
    "    ax.legend(loc='lower right')\n",
    "        \n",
    "        \n",
    "def plot_solutions(data: list[Solution]):\n",
    "    \n",
    "    figure, (ax_d, ax_v) = plt.subplots(1, 2, figsize=(15, 5))\n",
    "    figure.tight_layout(pad=5.0)\n",
    "\n",
    "    depth_plot(ax_d, data)\n",
    "    velocity_plot(ax_v, data)\n",
    "\n",
    "    \n",
    "    \n",
    "def print_times_to_bottom(solutions: list[Solution], sample_depths):\n",
    "    times = {}\n",
    "    for d in sample_depths:\n",
    "        times[d] = {}\n",
    "        for s in solutions:\n",
    "            times[d][s.scenario.name] = round(s.get_time_to_bottom(d) + s.scenario.get_time_to_start())\n",
    "        \n",
    "    table = pd.DataFrame(times)\n",
    "    print(table)           "
   ]
  },
  {
   "cell_type": "code",
   "execution_count": 15,
   "id": "cf6fa7f1-8ea6-423a-8234-6564728f065a",
   "metadata": {
    "slideshow": {
     "slide_type": "slide"
    }
   },
   "outputs": [
    {
     "name": "stdout",
     "output_type": "stream",
     "text": [
      "              40   80   120\n",
      "deep-fast      30   64   94\n",
      "shallow-fast   34   68   98\n",
      "shallow-slow   48   81  111\n",
      "deep-slow      48   81  111\n"
     ]
    },
    {
     "data": {
      "image/png": "[encoded data removed]",
      "text/plain": [
       "<Figure size 1080x360 with 2 Axes>"
      ]
     },
     "metadata": {
      "needs_background": "light"
     },
     "output_type": "display_data"
    }
   ],
   "source": [
    "plot_solutions(solutions)\n",
    "print_times_to_bottom(solutions, sample_depths)"
   ]
  },
  {
   "cell_type": "markdown",
   "id": "0794f1d9-2f6c-4487-bbc4-8538e07b2594",
   "metadata": {
    "slideshow": {
     "slide_type": "slide"
    }
   },
   "source": [
    "#### Total dive time\n",
    "\n",
    "The time it takes to reach 40 meters is highly variable depending on the starting depth and velocity. In the given scenarios the slowest time to reach 40m is 48s whereas the fastest is 30s which is a difference of 18s. After 40m the time difference to any depth remains constant and it is 17s to both 80m and 120m. \n",
    "\n",
    "In other words, the difference in dive time is explained only by what happens during the first 40m. The rest of the dive looks exactly the same in each scenario, only with more or less delay."
   ]
  },
  {
   "cell_type": "markdown",
   "id": "4d5adfe8-3b4b-4c81-a5a0-650efa8a023b",
   "metadata": {
    "slideshow": {
     "slide_type": "slide"
    }
   },
   "source": [
    "#### Start depth and velocity\n",
    "\n",
    "In the given scenarios the initial velocity has a much larger impact on the difference between scenarios than the starting depth. The faster the diver reaches the freefall start depth, the more time they save. \n",
    "\n",
    "At higher initial velocities the starting depth also has an impact on the dive, hoever at lower initial velocities this impact is not visible. This makes sense since a diver that swims down at lower velocity will move similar to a diver that freefalls at terminal velocity."
   ]
  },
  {
   "cell_type": "markdown",
   "id": "97c0f3d2-93f9-4fdc-8458-67319416d35e",
   "metadata": {
    "slideshow": {
     "slide_type": "slide"
    }
   },
   "source": [
    "#### Terminal velocity\n",
    "\n",
    "In every scenario the velocity reaches terminal velocity shortly after starting the freefall. A diver with a low inital velocity will reach it faster than a diver with a high one. The higher the difference between the initial an terminal velocity is, the faster the diver will slow down after starting the freefall. \n",
    "\n",
    "Note that it is not possible to swim down slower than the terminal velocity, if the diver isn't actively breaking."
   ]
  },
  {
   "cell_type": "markdown",
   "id": "d1f24187-7b63-4f12-b899-fc98a99f9db1",
   "metadata": {
    "slideshow": {
     "slide_type": "slide"
    }
   },
   "source": [
    "## Conclusions\n",
    "\n",
    "\n"
   ]
  },
  {
   "cell_type": "markdown",
   "id": "23e637ea-d368-4915-81c8-b45b666cb070",
   "metadata": {
    "slideshow": {
     "slide_type": "slide"
    }
   },
   "source": [
    "We have seen that terminal velocity is a dominant factor during the freefall and that the starting depth and velocity don't have a significant influence on how fast a diver falls past the initial phase of the freefall. It is however possible to shorten the dive by swimming down at a higher velocity. Starting the freefall at greater depth also has an impact but to a lesser extent. The saved time remains constant after a certain depth. Therefore, the diver has to evaluate carefully if it is worth spending the extra energy to reduce the dive time."
   ]
  },
  {
   "cell_type": "markdown",
   "id": "eb69c497",
   "metadata": {
    "slideshow": {
     "slide_type": "slide"
    }
   },
   "source": [
    "After the initial phase the only way to influence the freefalling speed is through the reduction of drag by striving for an optimal body position and alignment and reducing laminar friction by choosing a wetsuit with a smooth surface."
   ]
  },
  {
   "cell_type": "markdown",
   "id": "957a0e30",
   "metadata": {
    "slideshow": {
     "slide_type": "slide"
    }
   },
   "source": [
    "There is also an indirect effect that has to be taken into consideration. The lower the falling speed, the greater the risk that the diver loses alignment during freefall. This will lead to more drag and ultimately result in a lower falling velocity if not corrected. Such a correction, however, might disturb the relaxation and focus of the diver."
   ]
  },
  {
   "cell_type": "markdown",
   "id": "e7fc61e9",
   "metadata": {
    "slideshow": {
     "slide_type": "slide"
    }
   },
   "source": [
    "Considering these effects, the following might be a good strategy: Define a minimal velocity for the freefall where the alignment during freefall is at an acceptable stability and with which the bottom can be reached in the desired time, calculate or test at which depth the terminal velocity reaches that value, and define this depth and velocity as the target to start freefalling. alternatively start freefalling a few meters earlier but with a higher initial velocity. During freefall, optimize your body position and alignment and, for minimal friction, use an adequate wetsuit."
   ]
  },
  {
   "cell_type": "markdown",
   "id": "ea7e89f6",
   "metadata": {
    "slideshow": {
     "slide_type": "slide"
    }
   },
   "source": [
    "It would be interesting to analyze real dive data to validate the model and see how well it manages to predict what is happening in actual dives of real freedivers. Another factor to consider would be the effect of wearing more or less weight during the dive. Due to time constraint this was not be done here. However, [[13]](#13) points to a GitHub repository that provides the code for this document as well as for a web app with a freefall calculator. There a link can be found to this calculator where freedivers can play around with the different parameters including variations in weight."
   ]
  },
  {
   "cell_type": "markdown",
   "id": "a367b7a4-3c8d-4284-a755-757d257a873b",
   "metadata": {
    "slideshow": {
     "slide_type": "skip"
    },
    "tags": []
   },
   "source": [
    "# References\n",
    "\n",
    "<a id=\"0\">[0]</a>\n",
    "AIDA 2 - Freediver Course\n",
    "\n",
    "<a id=\"1\">[1]</a>\n",
    "AIDA 3 - Advanced Freediver\n",
    "\n",
    "<a id=\"2\">[2]</a>\n",
    "AIDA 4 - Master Freediver\n",
    "\n",
    "<a id=\"3\">[3]</a>\n",
    "https://www.omnicalculator.com/physics/water-density\n",
    "\n",
    "<a id=\"4\">[4]</a> \n",
    "Naemi R, Easson WJ, Sanders RH. Hydrodynamic glide efficiency in swimming. J Sci Med Sport. 2010 Jul;13(4):444-51. doi: 10.1016/j.jsams.2009.04.009. Epub 2009 Jun 18. PMID: 19540161.\n",
    "\n",
    "<a id=\"5\">[5]</a> \n",
    "Barbosa TM, Morais JE, Costa MJ, Mejias JE, Marinho DA, Silva AJ. Estimating the Trunk Transverse Surface Area to Assess Swimmer's Drag Force Based on their Competitive Level. J Hum Kinet. 2012;32:9-19. doi:10.2478/v10078-012-0019-3\n",
    "\n",
    "<a id=\"6\">[6]</a> \n",
    "https://en.wikipedia.org/wiki/Terminal_velocity\n",
    "\n",
    "<a id=\"7\">[7]</a>\n",
    "https://www.python.org/\n",
    "\n",
    "<a id=\"8\">[8]</a>\n",
    "https://scipy.org/\n",
    "\n",
    "<a id=\"9\">[9]</a>\n",
    "https://en.wikipedia.org/wiki/Archimedes%27_principle\n",
    "\n",
    "<a id=\"10\">[10]</a>\n",
    "https://en.wikipedia.org/wiki/Boyle%27s_law\n",
    "\n",
    "<a id=\"11\">[11]</a>\n",
    "https://bionumbers.hms.harvard.edu/bionumber.aspx?s=n&v=3&id=109718\n",
    "\n",
    "<a id=\"12\">[12]</a>\n",
    "https://github.com/mr-pf/freefall/blob/master/freefall.ipynb\n",
    "\n",
    "<a id=\"12\">[13]</a>\n",
    "https://github.com/mr-pf/freefall"
   ]
  },
  {
   "cell_type": "code",
   "execution_count": null,
   "id": "877691d2-23a3-436b-ba5d-290bded88330",
   "metadata": {},
   "outputs": [],
   "source": []
  }
 ],
 "metadata": {
  "celltoolbar": "Slideshow",
  "kernelspec": {
   "display_name": "Python 3 (ipykernel)",
   "language": "python",
   "name": "python3"
  },
  "language_info": {
   "codemirror_mode": {
    "name": "ipython",
    "version": 3
   },
   "file_extension": ".py",
   "mimetype": "text/x-python",
   "name": "python",
   "nbconvert_exporter": "python",
   "pygments_lexer": "ipython3",
   "version": "3.9.7"
  }
 },
 "nbformat": 4,
 "nbformat_minor": 5
}
