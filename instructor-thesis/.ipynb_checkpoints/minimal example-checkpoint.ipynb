{
 "cells": [
  {
   "cell_type": "code",
   "execution_count": 3,
   "id": "de82b588-5675-4436-8363-8fdfb7548468",
   "metadata": {},
   "outputs": [
    {
     "data": {
      "text/plain": [
       "  message: 'Required step size is less than spacing between numbers.'\n",
       "     nfev: 626\n",
       "     njev: 0\n",
       "      nlu: 0\n",
       "      sol: None\n",
       "   status: -1\n",
       "  success: False\n",
       "        t: array([0.        , 0.06006006])\n",
       " t_events: None\n",
       "        y: array([[20.        , 20.07873658],\n",
       "       [ 1.        ,  1.85561451]])\n",
       " y_events: None"
      ]
     },
     "execution_count": 3,
     "metadata": {},
     "output_type": "execute_result"
    }
   ],
   "source": [
    "import numpy as np\n",
    "import math\n",
    "import scipy as sp\n",
    "from scipy.integrate import odeint\n",
    "from scipy.integrate import solve_ivp\n",
    "\n",
    "# Physical constants\n",
    "rho = 1023.6               # kg/m³ density of saline water\n",
    "g = 9.807                  # m/s²  gravitational acceleration on earth\n",
    "\n",
    "# Assumptions about diver\n",
    "V_diver = 0.062            # m³    volume of diver\n",
    "V_tlc = 0.006              # m³    total lung capacity\n",
    "m = 66                     # Kg    weight of diver\n",
    "A = 0.07                   # m²    crossectional area of diver in diving direction              \n",
    "C_D = 0.3                  # -     Drag coefficient\n",
    "\n",
    "# Derived\n",
    "C_B = rho * g              # Buoyency coefficient\n",
    "C_R = 0.5 * rho * C_D * A  # Resistive coefficient\n",
    "\n",
    "# equation\n",
    "def dSdd(d, S):\n",
    "    d, v = S\n",
    "    return [\n",
    "        v,\n",
    "        C_B * V_diver + 10 * C_B * V_tlc / ( d + 10 ) - m * g + C_R * v**2\n",
    "    ]\n",
    "\n",
    "# initial conditions\n",
    "d_0 = 20\n",
    "v_0 = 1\n",
    "S_0 = [d_0, v_0]\n",
    "\n",
    "# time interval\n",
    "t = np.linspace(0, 60, 1000)\n",
    "\n",
    "# solution odeint\n",
    "odeint(dSdd, y0 = S_0, t=t, tfirst=True, full_output = 1) \n",
    "\n",
    "# solution solve_ivp\n",
    "solve_ivp(dSdd, t_span=(0, max(t)), y0=S_0, t_eval=t)"
   ]
  }
 ],
 "metadata": {
  "kernelspec": {
   "display_name": "Python 3 (ipykernel)",
   "language": "python",
   "name": "python3"
  },
  "language_info": {
   "codemirror_mode": {
    "name": "ipython",
    "version": 3
   },
   "file_extension": ".py",
   "mimetype": "text/x-python",
   "name": "python",
   "nbconvert_exporter": "python",
   "pygments_lexer": "ipython3",
   "version": "3.9.7"
  }
 },
 "nbformat": 4,
 "nbformat_minor": 5
}
